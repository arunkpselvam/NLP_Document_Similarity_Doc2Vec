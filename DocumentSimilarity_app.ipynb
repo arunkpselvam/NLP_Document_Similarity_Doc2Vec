{
  "nbformat": 4,
  "nbformat_minor": 0,
  "metadata": {
    "colab": {
      "name": "Doc2Vec.ipynb",
      "provenance": [],
      "collapsed_sections": []
    },
    "kernelspec": {
      "name": "python3",
      "display_name": "Python 3"
    },
    "language_info": {
      "name": "python"
    },
    "accelerator": "GPU"
  },
  "cells": [
    {
      "cell_type": "code",
      "execution_count": 72,
      "metadata": {
        "id": "TzlTuN3OJbbI"
      },
      "outputs": [],
      "source": [
        "from sklearn.datasets import fetch_20newsgroups"
      ]
    },
    {
      "cell_type": "markdown",
      "source": [
        "### Categories available from the dataset"
      ],
      "metadata": {
        "id": "quC3exv8X3mI"
      }
    },
    {
      "cell_type": "code",
      "source": [
        "fetch_20newsgroups(subset='train').target_names"
      ],
      "metadata": {
        "colab": {
          "base_uri": "https://localhost:8080/"
        },
        "id": "9KOIG91xTPQu",
        "outputId": "6b0e677a-a48b-407a-b41c-2d0a073d12bd"
      },
      "execution_count": 73,
      "outputs": [
        {
          "output_type": "execute_result",
          "data": {
            "text/plain": [
              "['alt.atheism',\n",
              " 'comp.graphics',\n",
              " 'comp.os.ms-windows.misc',\n",
              " 'comp.sys.ibm.pc.hardware',\n",
              " 'comp.sys.mac.hardware',\n",
              " 'comp.windows.x',\n",
              " 'misc.forsale',\n",
              " 'rec.autos',\n",
              " 'rec.motorcycles',\n",
              " 'rec.sport.baseball',\n",
              " 'rec.sport.hockey',\n",
              " 'sci.crypt',\n",
              " 'sci.electronics',\n",
              " 'sci.med',\n",
              " 'sci.space',\n",
              " 'soc.religion.christian',\n",
              " 'talk.politics.guns',\n",
              " 'talk.politics.mideast',\n",
              " 'talk.politics.misc',\n",
              " 'talk.religion.misc']"
            ]
          },
          "metadata": {},
          "execution_count": 73
        }
      ]
    },
    {
      "cell_type": "markdown",
      "source": [
        "### Segregation of data in to train and test modules"
      ],
      "metadata": {
        "id": "AxIHnacwYBrv"
      }
    },
    {
      "cell_type": "code",
      "source": [
        "train = fetch_20newsgroups(subset='train',remove=('headers', 'footers', 'quotes'))\n",
        "test = fetch_20newsgroups(subset='test',remove=('headers', 'footers', 'quotes'))"
      ],
      "metadata": {
        "id": "SwUXwo0XK9Xl"
      },
      "execution_count": 74,
      "outputs": []
    },
    {
      "cell_type": "code",
      "source": [
        "print(len(train.data))\n",
        "print(len(test.data))"
      ],
      "metadata": {
        "colab": {
          "base_uri": "https://localhost:8080/"
        },
        "id": "9pGbhBIoLKuN",
        "outputId": "26b16b82-c19b-48a3-cd4f-011b6b5f0488"
      },
      "execution_count": 76,
      "outputs": [
        {
          "output_type": "stream",
          "name": "stdout",
          "text": [
            "11314\n",
            "7532\n"
          ]
        }
      ]
    },
    {
      "cell_type": "markdown",
      "source": [
        "# Data Preprocessing"
      ],
      "metadata": {
        "id": "6FAYCL_sYWUy"
      }
    },
    {
      "cell_type": "code",
      "source": [
        "from gensim.models.doc2vec import Doc2Vec,TaggedDocument"
      ],
      "metadata": {
        "id": "WA9WrM3FL_Ql"
      },
      "execution_count": 77,
      "outputs": []
    },
    {
      "cell_type": "code",
      "source": [
        "from nltk.stem import WordNetLemmatizer\n",
        "from nltk.corpus import stopwords\n",
        "import nltk\n",
        "nltk.download('punkt')\n",
        "nltk.download('averaged_perceptron_tagger')\n",
        "nltk.download('stopwords')\n",
        "nltk.download('wordnet')"
      ],
      "metadata": {
        "colab": {
          "base_uri": "https://localhost:8080/"
        },
        "id": "ebRHGgTaOLT-",
        "outputId": "0360d10b-1b5b-46b5-9d1c-1e7ced834a54"
      },
      "execution_count": 78,
      "outputs": [
        {
          "output_type": "stream",
          "name": "stdout",
          "text": [
            "[nltk_data] Downloading package punkt to /root/nltk_data...\n",
            "[nltk_data]   Package punkt is already up-to-date!\n",
            "[nltk_data] Downloading package averaged_perceptron_tagger to\n",
            "[nltk_data]     /root/nltk_data...\n",
            "[nltk_data]   Package averaged_perceptron_tagger is already up-to-\n",
            "[nltk_data]       date!\n",
            "[nltk_data] Downloading package stopwords to /root/nltk_data...\n",
            "[nltk_data]   Package stopwords is already up-to-date!\n",
            "[nltk_data] Downloading package wordnet to /root/nltk_data...\n",
            "[nltk_data]   Package wordnet is already up-to-date!\n"
          ]
        },
        {
          "output_type": "execute_result",
          "data": {
            "text/plain": [
              "True"
            ]
          },
          "metadata": {},
          "execution_count": 78
        }
      ]
    },
    {
      "cell_type": "markdown",
      "source": [
        "### Tokenization, Lowercase Conversion, Stop words removal, Punctuation removal and Lemmatization"
      ],
      "metadata": {
        "id": "t3QqwY49YfJ9"
      }
    },
    {
      "cell_type": "code",
      "source": [
        "from collections import defaultdict\n",
        "from nltk.corpus import wordnet\n",
        "from nltk.stem import WordNetLemmatizer\n",
        "from nltk.corpus import stopwords\n",
        "from string import punctuation\n",
        "lemmatizer = WordNetLemmatizer()\n",
        "def preprocess(sen):\n",
        "  tokens= nltk.word_tokenize(sen)\n",
        "  #to2 = nltk.sent_tokenize(sen)\n",
        "  #lower case conversion\n",
        "  low_str = [word.lower() for word in tokens]\n",
        "  #Stop Words Removal\n",
        "  stop_words = set(stopwords.words('english'))\n",
        "  st_str = [word for word in low_str if word not in stop_words]\n",
        "  #Punctuation Removal\n",
        "  pu_str = [word for word in st_str if word not in punctuation]\n",
        "  #Lemmatization\n",
        "  pos_data = nltk.pos_tag(pu_str)\n",
        "  tag_dict = defaultdict(lambda : wordnet.NOUN)\n",
        "  tag_dict['J'] = wordnet.ADJ\n",
        "  tag_dict['N'] = wordnet.NOUN\n",
        "  tag_dict['V'] = wordnet.VERB\n",
        "  tag_dict['R'] = wordnet.ADV\n",
        "  lem_str = [lemmatizer.lemmatize(word,tag_dict[tag[0]]) for word,tag in pos_data]\n",
        "  return lem_str"
      ],
      "metadata": {
        "id": "TL6nCc1rONqU"
      },
      "execution_count": 79,
      "outputs": []
    },
    {
      "cell_type": "code",
      "source": [
        "test_sen = \"This is a BEAUTIFUL sentence written wonderfully to test Doc2Vec module !!!\"\n",
        "preprocess(test_sen)"
      ],
      "metadata": {
        "colab": {
          "base_uri": "https://localhost:8080/"
        },
        "id": "ocRD-_h0Hdnx",
        "outputId": "258c82fc-bc5c-4f03-aee2-661c0dd48765"
      },
      "execution_count": 80,
      "outputs": [
        {
          "output_type": "execute_result",
          "data": {
            "text/plain": [
              "['beautiful', 'sentence', 'write', 'wonderfully', 'test', 'doc2vec', 'module']"
            ]
          },
          "metadata": {},
          "execution_count": 80
        }
      ]
    },
    {
      "cell_type": "code",
      "source": [
        "def apply_preprocess(ip_lst,ip_data,flag):\n",
        "  '''Method to apply preprocessing to train and test modules '''\n",
        "  if flag:\n",
        "    for i in ip_data.data:\n",
        "      pre_data = preprocess(i)\n",
        "      ip_lst.append(pre_data)\n",
        "    return ip_lst\n",
        "  else:\n",
        "    for i in range(len(ip_data.target)):\n",
        "      tr_no = ip_data.target[i]\n",
        "      name = str(i)+\"_\"+str(tr_no)+\"_\"+ip_data.target_names[tr_no]\n",
        "      ip_lst.append(name)\n",
        "    return ip_lst\n"
      ],
      "metadata": {
        "id": "ZloMaK-HZhBK"
      },
      "execution_count": 81,
      "outputs": []
    },
    {
      "cell_type": "code",
      "source": [
        "train_data = []\n",
        "train_data = apply_preprocess(train_data,train,True)\n",
        "test_data = []\n",
        "test_data = apply_preprocess(test_data,test,True)\n",
        "train_labels = []\n",
        "train_labels = apply_preprocess(train_labels,train,False)\n",
        "test_labels = []\n",
        "test_labels = apply_preprocess(test_labels,test,False)"
      ],
      "metadata": {
        "id": "Yd2-yi-waOtn"
      },
      "execution_count": 82,
      "outputs": []
    },
    {
      "cell_type": "code",
      "source": [
        "train_tag_data = [TaggedDocument(words=tokens,tags=[labels]) for tokens,labels in zip(train_data,train_labels)]\n",
        "test_tag_data = [TaggedDocument(words=tokens,tags=[labels]) for tokens,labels in zip(test_data,test_labels)]"
      ],
      "metadata": {
        "id": "Lc-niwF-GQlS"
      },
      "execution_count": 83,
      "outputs": []
    },
    {
      "cell_type": "code",
      "source": [
        "test_tag_data[10]"
      ],
      "metadata": {
        "id": "NY20XHdjVY4J",
        "colab": {
          "base_uri": "https://localhost:8080/"
        },
        "outputId": "04ba76d3-fd40-4bd6-ce92-337b65008f71"
      },
      "execution_count": 84,
      "outputs": [
        {
          "output_type": "execute_result",
          "data": {
            "text/plain": [
              "TaggedDocument(words=['uploaded', 'windows', 'on-line', 'review', 'shareware', 'edition', 'ftp.cica.indiana.edu', '/pub/pc/win3/uploads/wolrs7.zip', 'on-line', 'magazine', 'contain', 'review', 'shareware', 'product', '...', 'grab', 'windows', 'on-line', 'bb', '--'], tags=['10_2_comp.os.ms-windows.misc'])"
            ]
          },
          "metadata": {},
          "execution_count": 84
        }
      ]
    },
    {
      "cell_type": "markdown",
      "source": [
        "# **Training the Model**"
      ],
      "metadata": {
        "id": "HV3XL1sTSlq_"
      }
    },
    {
      "cell_type": "code",
      "source": [
        "model = Doc2Vec(dm=1,epochs=15) #Distributed memory option (PV-DM) is used."
      ],
      "metadata": {
        "id": "amkMwoobVfGv"
      },
      "execution_count": 99,
      "outputs": []
    },
    {
      "cell_type": "code",
      "source": [
        "model.build_vocab(train_tag_data)"
      ],
      "metadata": {
        "id": "SsnWaeTakwIm"
      },
      "execution_count": 100,
      "outputs": []
    },
    {
      "cell_type": "code",
      "source": [
        "model.train(train_tag_data,total_examples=model.corpus_count,epochs=model.epochs)"
      ],
      "metadata": {
        "id": "RdHmNVunlyNS"
      },
      "execution_count": 101,
      "outputs": []
    },
    {
      "cell_type": "markdown",
      "source": [
        "# **Testing the Model**"
      ],
      "metadata": {
        "id": "I-bMMCeNSR8v"
      }
    },
    {
      "cell_type": "code",
      "source": [
        "test_tag_data[0]"
      ],
      "metadata": {
        "colab": {
          "base_uri": "https://localhost:8080/"
        },
        "id": "qmpF6UJVoH28",
        "outputId": "7d8345a1-4bd3-4a47-8ef9-758e6ccb4183"
      },
      "execution_count": 102,
      "outputs": [
        {
          "output_type": "execute_result",
          "data": {
            "text/plain": [
              "TaggedDocument(words=['little', 'confused', 'model', '88-89', 'bonnevilles', 'heard', 'le', 'se', 'lse', 'sse', 'ssei', 'could', 'someone', 'tell', 'difference', 'far', 'feature', 'performance', 'also', 'curious', 'know', 'book', 'value', 'prefereably', '89', 'model', 'much', 'less', 'book', 'value', 'usually', 'get', 'word', 'much', 'demand', 'time', 'year', 'heard', 'mid-spring', 'early', 'summer', 'best', 'time', 'buy'], tags=['0_7_rec.autos'])"
            ]
          },
          "metadata": {},
          "execution_count": 102
        }
      ]
    },
    {
      "cell_type": "code",
      "source": [
        "new_doc_vec = model.infer_vector(test_tag_data[0].words, steps=50, alpha=0.25)"
      ],
      "metadata": {
        "id": "ItIxCRnSnls2"
      },
      "execution_count": 103,
      "outputs": []
    },
    {
      "cell_type": "code",
      "source": [
        "new_doc_vec"
      ],
      "metadata": {
        "colab": {
          "base_uri": "https://localhost:8080/"
        },
        "id": "JkPGvknAsjGJ",
        "outputId": "700a9c37-e266-4662-b99b-7f0f143e3e58"
      },
      "execution_count": 104,
      "outputs": [
        {
          "output_type": "execute_result",
          "data": {
            "text/plain": [
              "array([-1.7935109 ,  0.7540246 , -0.16122025, -0.545765  ,  0.45376423,\n",
              "       -2.032601  , -4.937308  ,  3.3727207 ,  4.7072663 , -3.3231025 ,\n",
              "       -5.0037346 ,  0.38572502,  4.8789825 ,  0.12678495, -0.9008269 ,\n",
              "        0.24126776, -2.7013404 , -2.6746    , -3.1907356 , -1.3237969 ,\n",
              "       -0.0269166 , -6.0495114 ,  1.4782971 ,  3.3871176 , -0.86826503,\n",
              "        2.3594987 , -4.9592166 ,  3.2656288 ,  6.738087  , -3.075308  ,\n",
              "       -0.99784577, -4.961427  ,  4.405932  ,  5.6751785 , -1.2428669 ,\n",
              "        1.4303904 ,  4.114554  , -0.99306524, -4.8093204 ,  2.3648942 ,\n",
              "        2.546966  , -0.65628314, -2.3360338 ,  1.4044759 ,  3.2958539 ,\n",
              "        0.25910574,  1.7022059 , -0.28890026,  1.8317842 , -0.04786375,\n",
              "        0.8769499 ,  0.38989124, -4.528877  ,  0.2891187 ,  2.5197265 ,\n",
              "       -4.640683  , -2.5646632 , -0.9427929 , -0.9179611 ,  3.0829244 ,\n",
              "        1.6449412 , -6.422558  , -3.96225   ,  0.04162598, -0.38182175,\n",
              "        3.1148252 , -0.34094238,  3.6212294 , -4.756236  , -3.517005  ,\n",
              "       -4.0553684 , -2.7191281 , -1.5030737 ,  0.36354405,  4.9633875 ,\n",
              "        2.8760426 ,  2.6264374 ,  3.2644556 , -0.5240614 , -0.32832024,\n",
              "       -1.7016371 , -0.76536137,  2.1988776 , -3.2606192 ,  0.94025326,\n",
              "       -4.2381897 ,  2.5788646 , -2.08951   ,  2.8982828 , -3.9854524 ,\n",
              "        0.5029918 ,  2.321857  , -1.6417557 ,  0.23932555,  1.8065223 ,\n",
              "       -0.570028  , -3.0916817 , -2.1955552 , -1.0658927 ,  0.16260579],\n",
              "      dtype=float32)"
            ]
          },
          "metadata": {},
          "execution_count": 104
        }
      ]
    },
    {
      "cell_type": "code",
      "source": [
        "model.docvecs.most_similar(positive=[new_doc_vec])"
      ],
      "metadata": {
        "colab": {
          "base_uri": "https://localhost:8080/"
        },
        "id": "3dvRdTiJmD5O",
        "outputId": "4e3009fd-fb1d-412d-9aff-572b9fac1570"
      },
      "execution_count": 105,
      "outputs": [
        {
          "output_type": "execute_result",
          "data": {
            "text/plain": [
              "[('8713_7_rec.autos', 0.4161534309387207),\n",
              " ('9160_12_sci.electronics', 0.4147428870201111),\n",
              " ('0_7_rec.autos', 0.3962128758430481),\n",
              " ('4542_4_comp.sys.mac.hardware', 0.38412684202194214),\n",
              " ('7500_2_comp.os.ms-windows.misc', 0.37587204575538635),\n",
              " ('4345_4_comp.sys.mac.hardware', 0.37281814217567444),\n",
              " ('2309_3_comp.sys.ibm.pc.hardware', 0.36781325936317444),\n",
              " ('8429_7_rec.autos', 0.36581921577453613),\n",
              " ('10121_7_rec.autos', 0.36104828119277954),\n",
              " ('7920_7_rec.autos', 0.35777318477630615)]"
            ]
          },
          "metadata": {},
          "execution_count": 105
        }
      ]
    },
    {
      "cell_type": "markdown",
      "source": [
        "### Model was able to successfully identify document with similar context. As an improvement the model can be fine tuned to improve accuracy"
      ],
      "metadata": {
        "id": "3MjS5_j0wc5s"
      }
    },
    {
      "cell_type": "code",
      "source": [
        ""
      ],
      "metadata": {
        "id": "3M0lbPjjwp17"
      },
      "execution_count": null,
      "outputs": []
    }
  ]
}